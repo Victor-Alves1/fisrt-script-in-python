{
 "cells": [
  {
   "cell_type": "code",
   "execution_count": 10,
   "id": "d8951e97",
   "metadata": {},
   "outputs": [],
   "source": [
    "import pyautogui\n",
    "import time\n",
    "import pyperclip\n",
    "\n",
    "pyautogui.PAUSE = 0.5\n",
    "\n",
    "#pyautogui.alert(\"vai comerçar, aperte OK e não mexa mais\")\n",
    "#Passo a passo para abrir o computador\n",
    "pyautogui.press(\"winleft\")\n",
    "pyautogui.write(\"chrome\")\n",
    "pyautogui.press(\"enter\")\n",
    "pyautogui.click(x=1002, y=597)\n",
    "pyautogui.hotkey(\"ctrl\", \"t\")\n",
    "link1 = \"https://github.com/Victor-Alves1\"\n",
    "pyperclip.copy(link1)\n",
    "pyautogui.hotkey(\"ctrl\", \"v\")\n",
    "pyautogui.press(\"enter\")\n",
    "pyautogui.hotkey(\"ctrl\", \"t\")\n",
    "link2 = \"https://www.linkedin.com/in/victor-alvc/\"\n",
    "pyperclip.copy(link2)\n",
    "pyautogui.hotkey(\"ctrl\", \"v\")\n",
    "pyautogui.press(\"enter\")\n",
    "pyautogui.hotkey(\"ctrl\", \"t\")\n",
    "link3 = \"https://www.canva.com/design/DAFHjfJPOxs/2k8PY-gMlcgt9HEbxQc7uQ/view?mode=prototype\"\n",
    "pyperclip.copy(link3)\n",
    "pyautogui.hotkey(\"ctrl\", \"v\")\n",
    "pyautogui.press(\"enter\")"
   ]
  },
  {
   "cell_type": "code",
   "execution_count": 4,
   "id": "e61cc910",
   "metadata": {},
   "outputs": [
    {
     "data": {
      "text/plain": [
       "Point(x=100, y=269)"
      ]
     },
     "execution_count": 4,
     "metadata": {},
     "output_type": "execute_result"
    }
   ],
   "source": [
    "time.sleep(3)\n",
    "pyautogui.position()"
   ]
  },
  {
   "cell_type": "code",
   "execution_count": null,
   "id": "d99844ed",
   "metadata": {},
   "outputs": [],
   "source": []
  }
 ],
 "metadata": {
  "kernelspec": {
   "display_name": "Python 3 (ipykernel)",
   "language": "python",
   "name": "python3"
  },
  "language_info": {
   "codemirror_mode": {
    "name": "ipython",
    "version": 3
   },
   "file_extension": ".py",
   "mimetype": "text/x-python",
   "name": "python",
   "nbconvert_exporter": "python",
   "pygments_lexer": "ipython3",
   "version": "3.9.12"
  }
 },
 "nbformat": 4,
 "nbformat_minor": 5
}
